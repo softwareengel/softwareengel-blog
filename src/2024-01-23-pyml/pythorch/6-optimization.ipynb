{
  "cells": [
    {
      "cell_type": "markdown",
      "metadata": {},
      "source": [
        "# Optimizing the model parameters\n",
        "\n",
        "Now that we have a model and data it's time to train, validate, and test our model by optimizing its parameters on our data. Training a model is an iterative process; in each iteration (*epoch*). The model makes a guess about the output, calculates the error in its guess (*loss*), collects the derivatives of the error with respect to its parameters (as we saw in the previous module), and **optimizes** these parameters using gradient descent. \n",
        "\n",
        "## Prerequisite code \n",
        "\n",
        "We'll load the code from the previous modules on **Datasets & DataLoaders** and **Build Model**."
      ]
    },
    {
      "cell_type": "code",
      "execution_count": 1,
      "metadata": {},
      "outputs": [
        {
          "name": "stderr",
          "output_type": "stream",
          "text": [
            "c:\\ProgramData\\anaconda3\\lib\\site-packages\\tqdm\\auto.py:21: TqdmWarning: IProgress not found. Please update jupyter and ipywidgets. See https://ipywidgets.readthedocs.io/en/stable/user_install.html\n",
            "  from .autonotebook import tqdm as notebook_tqdm\n"
          ]
        },
        {
          "name": "stdout",
          "output_type": "stream",
          "text": [
            "Downloading http://fashion-mnist.s3-website.eu-central-1.amazonaws.com/train-images-idx3-ubyte.gz\n",
            "Downloading http://fashion-mnist.s3-website.eu-central-1.amazonaws.com/train-images-idx3-ubyte.gz to data\\FashionMNIST\\raw\\train-images-idx3-ubyte.gz\n"
          ]
        },
        {
          "name": "stderr",
          "output_type": "stream",
          "text": [
            "100%|██████████| 26421880/26421880 [00:14<00:00, 1819522.09it/s]\n"
          ]
        },
        {
          "name": "stdout",
          "output_type": "stream",
          "text": [
            "Extracting data\\FashionMNIST\\raw\\train-images-idx3-ubyte.gz to data\\FashionMNIST\\raw\n",
            "\n",
            "Downloading http://fashion-mnist.s3-website.eu-central-1.amazonaws.com/train-labels-idx1-ubyte.gz\n",
            "Downloading http://fashion-mnist.s3-website.eu-central-1.amazonaws.com/train-labels-idx1-ubyte.gz to data\\FashionMNIST\\raw\\train-labels-idx1-ubyte.gz\n"
          ]
        },
        {
          "name": "stderr",
          "output_type": "stream",
          "text": [
            "100%|██████████| 29515/29515 [00:00<00:00, 1651655.49it/s]\n"
          ]
        },
        {
          "name": "stdout",
          "output_type": "stream",
          "text": [
            "Extracting data\\FashionMNIST\\raw\\train-labels-idx1-ubyte.gz to data\\FashionMNIST\\raw\n",
            "\n",
            "Downloading http://fashion-mnist.s3-website.eu-central-1.amazonaws.com/t10k-images-idx3-ubyte.gz\n",
            "Downloading http://fashion-mnist.s3-website.eu-central-1.amazonaws.com/t10k-images-idx3-ubyte.gz to data\\FashionMNIST\\raw\\t10k-images-idx3-ubyte.gz\n"
          ]
        },
        {
          "name": "stderr",
          "output_type": "stream",
          "text": [
            "100%|██████████| 4422102/4422102 [00:00<00:00, 14543678.23it/s]\n"
          ]
        },
        {
          "name": "stdout",
          "output_type": "stream",
          "text": [
            "Extracting data\\FashionMNIST\\raw\\t10k-images-idx3-ubyte.gz to data\\FashionMNIST\\raw\n",
            "\n",
            "Downloading http://fashion-mnist.s3-website.eu-central-1.amazonaws.com/t10k-labels-idx1-ubyte.gz\n",
            "Downloading http://fashion-mnist.s3-website.eu-central-1.amazonaws.com/t10k-labels-idx1-ubyte.gz to data\\FashionMNIST\\raw\\t10k-labels-idx1-ubyte.gz\n"
          ]
        },
        {
          "name": "stderr",
          "output_type": "stream",
          "text": [
            "100%|██████████| 5148/5148 [00:00<00:00, 5166852.59it/s]"
          ]
        },
        {
          "name": "stdout",
          "output_type": "stream",
          "text": [
            "Extracting data\\FashionMNIST\\raw\\t10k-labels-idx1-ubyte.gz to data\\FashionMNIST\\raw\n",
            "\n"
          ]
        },
        {
          "name": "stderr",
          "output_type": "stream",
          "text": [
            "\n"
          ]
        }
      ],
      "source": [
        "%matplotlib inline\n",
        "import torch\n",
        "from torch import nn\n",
        "from torch.utils.data import DataLoader\n",
        "from torchvision import datasets\n",
        "from torchvision.transforms import ToTensor, Lambda\n",
        "\n",
        "training_data = datasets.FashionMNIST(\n",
        "    root=\"data\",\n",
        "    train=True,\n",
        "    download=True,\n",
        "    transform=ToTensor()\n",
        ")\n",
        "\n",
        "test_data = datasets.FashionMNIST(\n",
        "    root=\"data\",\n",
        "    train=False,\n",
        "    download=True,\n",
        "    transform=ToTensor()\n",
        ")\n",
        "\n",
        "train_dataloader = DataLoader(training_data, batch_size=64)\n",
        "test_dataloader = DataLoader(test_data, batch_size=64)\n",
        "\n",
        "class NeuralNetwork(nn.Module):\n",
        "    def __init__(self):\n",
        "        super(NeuralNetwork, self).__init__()\n",
        "        self.flatten = nn.Flatten()\n",
        "        self.linear_relu_stack = nn.Sequential(\n",
        "            nn.Linear(28*28, 512),\n",
        "            nn.ReLU(),\n",
        "            nn.Linear(512, 512),\n",
        "            nn.ReLU(),\n",
        "            nn.Linear(512, 10),\n",
        "            nn.ReLU()\n",
        "        )\n",
        "\n",
        "    def forward(self, x):\n",
        "        x = self.flatten(x)\n",
        "        logits = self.linear_relu_stack(x)\n",
        "        return logits\n",
        "\n",
        "model = NeuralNetwork()"
      ]
    },
    {
      "cell_type": "markdown",
      "metadata": {},
      "source": [
        "## Setting hyperparameters \n",
        "\n",
        "Hyperparameters are adjustable parameters that let you control the model optimization process. \n",
        "Different hyperparameter values can impact model training and the level of accuracy.\n",
        "\n",
        "We define the following hyperparameters for training:\n",
        " - **Number of Epochs** - the number times the entire training dataset is passed through the network. \n",
        " - **Batch Size** - the number of data samples seen by the model in each epoch. Iterates over the number of batches needed to complete an epoch.\n",
        " - **Learning Rate** - the size of steps that the model matches as it searches for the best weights that will produce a higher model accuracy. Smaller values means the model will take a longer time to find the best weights. Larger values may result in the model stepping over and missing the best weights, which yields unpredictable behavior during training."
      ]
    },
    {
      "cell_type": "code",
      "execution_count": 2,
      "metadata": {},
      "outputs": [],
      "source": [
        "learning_rate = 1e-3\n",
        "batch_size = 64\n",
        "epochs = 5"
      ]
    },
    {
      "cell_type": "markdown",
      "metadata": {},
      "source": [
        "## Add an optimization loop\n",
        "\n",
        "Once we set our hyperparameters, we can then train and optimize our model with an optimization loop. Each iteration of the optimization loop is called an **epoch**. \n",
        "\n",
        "Each epoch consists of two main parts:\n",
        " - **The Train Loop** - iterate over the training dataset and try to converge to optimal parameters.\n",
        " - **The Validation/Test Loop** - iterate over the test dataset to check if model performance is improving.\n",
        "\n",
        "Let's examine some of the concepts used in the training loop. Jump ahead to see the full implementation of the optimization loop.\n",
        "\n",
        "### Add a loss function\n",
        "\n",
        "When presented with some training data, our untrained network is likely not to give the correct answer. A **loss function** measures the degree of dissimilarity of an obtained result to the target value, and it is the loss function that we want to minimize during training. To calculate the loss we make a prediction using the inputs of our given data sample and compare it against the true data label value.\n",
        "\n",
        "Common loss functions include:\n",
        "\n",
        "- `nn.MSELoss` (Mean Square Error) used for regression tasks\n",
        "- `nn.NLLLoss` (Negative Log Likelihood) used for classification\n",
        "- `nn.CrossEntropyLoss` combines `nn.LogSoftmax` and `nn.NLLLoss`\n",
        "\n",
        "We pass our model's output logits to `nn.CrossEntropyLoss`, which will normalize the logits and compute the prediction error."
      ]
    },
    {
      "cell_type": "code",
      "execution_count": 3,
      "metadata": {},
      "outputs": [],
      "source": [
        "# Initialize the loss function\n",
        "loss_fn = nn.CrossEntropyLoss()"
      ]
    },
    {
      "cell_type": "markdown",
      "metadata": {},
      "source": [
        "### Optimization pass\n",
        "\n",
        "Optimization is the process of adjusting model parameters to reduce model error in each training step. **Optimization algorithms** define how this process is performed (in this example we use *Stochastic Gradient Descent*).\n",
        "All optimization logic is encapsulated in  the `optimizer` object. Here, we use the SGD optimizer; there are many different optimizers\n",
        "available in PyTorch such as `ADAM` and `RMSProp`, that are suited for different kinds of models and data.\n",
        "\n",
        "We initialize the optimizer by registering the model's parameters that need to be trained, and passing in the learning rate hyperparameter."
      ]
    },
    {
      "cell_type": "code",
      "execution_count": 4,
      "metadata": {},
      "outputs": [],
      "source": [
        "optimizer = torch.optim.SGD(model.parameters(), lr=learning_rate)"
      ]
    },
    {
      "cell_type": "markdown",
      "metadata": {},
      "source": [
        "Inside the training loop, optimization happens in three steps:\n",
        " * Call `optimizer.zero_grad()` to reset the gradients of model parameters. Gradients by default add up; to prevent double-counting, we explicitly zero them at each iteration.\n",
        " * Back-propagate the prediction loss with a call to `loss.backwards()`. PyTorch deposits the gradients of the loss with respect to each parameter. \n",
        " * Once we have our gradients, we call `optimizer.step()` to adjust the parameters by the gradients collected in the backward pass."
      ]
    },
    {
      "cell_type": "markdown",
      "metadata": {},
      "source": [
        "## Full implementation\n",
        "\n",
        "We define a `train_loop` function that loops over our optimization code, and a `test_loop` function that \n",
        "evaluates the model's performance against our test data."
      ]
    },
    {
      "cell_type": "code",
      "execution_count": 5,
      "metadata": {},
      "outputs": [],
      "source": [
        "def train_loop(dataloader, model, loss_fn, optimizer):\n",
        "    size = len(dataloader.dataset)\n",
        "    for batch, (X, y) in enumerate(dataloader):        \n",
        "        # Compute prediction and loss\n",
        "        pred = model(X)\n",
        "        loss = loss_fn(pred, y)\n",
        "        \n",
        "        # Backpropagation\n",
        "        optimizer.zero_grad()\n",
        "        loss.backward()\n",
        "        optimizer.step()\n",
        "\n",
        "        if batch % 100 == 0:\n",
        "            loss, current = loss.item(), batch * len(X)\n",
        "            print(f\"loss: {loss:>7f}  [{current:>5d}/{size:>5d}]\")\n",
        "\n",
        "\n",
        "def test_loop(dataloader, model, loss_fn):\n",
        "    size = len(dataloader.dataset)\n",
        "    test_loss, correct = 0, 0\n",
        "\n",
        "    with torch.no_grad():\n",
        "        for X, y in dataloader:\n",
        "            pred = model(X)\n",
        "            test_loss += loss_fn(pred, y).item()\n",
        "            correct += (pred.argmax(1) == y).type(torch.float).sum().item()\n",
        "            \n",
        "    test_loss /= size\n",
        "    correct /= size\n",
        "    print(f\"Test Error: \\n Accuracy: {(100*correct):>0.1f}%, Avg loss: {test_loss:>8f} \\n\")"
      ]
    },
    {
      "cell_type": "markdown",
      "metadata": {},
      "source": [
        "We initialize the loss function and optimizer, and pass it to `train_loop` and `test_loop`.\n",
        "Feel free to increase the number of epochs to track the model's improving performance."
      ]
    },
    {
      "cell_type": "code",
      "execution_count": 6,
      "metadata": {},
      "outputs": [
        {
          "name": "stdout",
          "output_type": "stream",
          "text": [
            "Epoch 1\n",
            "-------------------------------\n",
            "loss: 2.305279  [    0/60000]\n"
          ]
        },
        {
          "name": "stdout",
          "output_type": "stream",
          "text": [
            "loss: 2.302291  [ 6400/60000]\n",
            "loss: 2.293260  [12800/60000]\n",
            "loss: 2.285812  [19200/60000]\n",
            "loss: 2.274808  [25600/60000]\n",
            "loss: 2.256443  [32000/60000]\n",
            "loss: 2.248373  [38400/60000]\n",
            "loss: 2.237079  [44800/60000]\n",
            "loss: 2.240166  [51200/60000]\n",
            "loss: 2.192089  [57600/60000]\n",
            "Test Error: \n",
            " Accuracy: 52.1%, Avg loss: 0.034645 \n",
            "\n",
            "Epoch 2\n",
            "-------------------------------\n",
            "loss: 2.228805  [    0/60000]\n",
            "loss: 2.220245  [ 6400/60000]\n",
            "loss: 2.196747  [12800/60000]\n",
            "loss: 2.186970  [19200/60000]\n",
            "loss: 2.137336  [25600/60000]\n",
            "loss: 2.128944  [32000/60000]\n",
            "loss: 2.114445  [38400/60000]\n",
            "loss: 2.093436  [44800/60000]\n",
            "loss: 2.117292  [51200/60000]\n",
            "loss: 1.997763  [57600/60000]\n",
            "Test Error: \n",
            " Accuracy: 54.2%, Avg loss: 0.032013 \n",
            "\n",
            "Epoch 3\n",
            "-------------------------------\n",
            "loss: 2.103756  [    0/60000]\n",
            "loss: 2.074758  [ 6400/60000]\n",
            "loss: 2.027912  [12800/60000]\n",
            "loss: 2.006112  [19200/60000]\n",
            "loss: 1.886309  [25600/60000]\n",
            "loss: 1.909452  [32000/60000]\n",
            "loss: 1.871914  [38400/60000]\n",
            "loss: 1.845916  [44800/60000]\n",
            "loss: 1.923860  [51200/60000]\n",
            "loss: 1.682577  [57600/60000]\n",
            "Test Error: \n",
            " Accuracy: 56.0%, Avg loss: 0.027813 \n",
            "\n",
            "Epoch 4\n",
            "-------------------------------\n",
            "loss: 1.910645  [    0/60000]\n",
            "loss: 1.851310  [ 6400/60000]\n",
            "loss: 1.786662  [12800/60000]\n",
            "loss: 1.748365  [19200/60000]\n",
            "loss: 1.556749  [25600/60000]\n",
            "loss: 1.655336  [32000/60000]\n",
            "loss: 1.587194  [38400/60000]\n",
            "loss: 1.586915  [44800/60000]\n",
            "loss: 1.720941  [51200/60000]\n",
            "loss: 1.383685  [57600/60000]\n",
            "Test Error: \n",
            " Accuracy: 58.0%, Avg loss: 0.023816 \n",
            "\n",
            "Epoch 5\n",
            "-------------------------------\n",
            "loss: 1.722242  [    0/60000]\n",
            "loss: 1.649125  [ 6400/60000]\n",
            "loss: 1.578068  [12800/60000]\n",
            "loss: 1.531457  [19200/60000]\n",
            "loss: 1.288804  [25600/60000]\n",
            "loss: 1.468240  [32000/60000]\n",
            "loss: 1.377445  [38400/60000]\n",
            "loss: 1.405458  [44800/60000]\n",
            "loss: 1.556847  [51200/60000]\n",
            "loss: 1.194366  [57600/60000]\n",
            "Test Error: \n",
            " Accuracy: 58.8%, Avg loss: 0.021021 \n",
            "\n",
            "Epoch 6\n",
            "-------------------------------\n",
            "loss: 1.564045  [    0/60000]\n",
            "loss: 1.501105  [ 6400/60000]\n",
            "loss: 1.417080  [12800/60000]\n",
            "loss: 1.386920  [19200/60000]\n",
            "loss: 1.108823  [25600/60000]\n",
            "loss: 1.334222  [32000/60000]\n",
            "loss: 1.241889  [38400/60000]\n",
            "loss: 1.286102  [44800/60000]\n",
            "loss: 1.434393  [51200/60000]\n",
            "loss: 1.080412  [57600/60000]\n",
            "Test Error: \n",
            " Accuracy: 59.6%, Avg loss: 0.019172 \n",
            "\n",
            "Epoch 7\n",
            "-------------------------------\n",
            "loss: 1.441574  [    0/60000]\n",
            "loss: 1.399978  [ 6400/60000]\n",
            "loss: 1.295348  [12800/60000]\n",
            "loss: 1.291406  [19200/60000]\n",
            "loss: 0.998861  [25600/60000]\n",
            "loss: 1.237570  [32000/60000]\n",
            "loss: 1.152727  [38400/60000]\n",
            "loss: 1.205864  [44800/60000]\n",
            "loss: 1.344633  [51200/60000]\n",
            "loss: 1.008138  [57600/60000]\n",
            "Test Error: \n",
            " Accuracy: 60.9%, Avg loss: 0.017923 \n",
            "\n",
            "Epoch 8\n",
            "-------------------------------\n",
            "loss: 1.349326  [    0/60000]\n",
            "loss: 1.328601  [ 6400/60000]\n",
            "loss: 1.202748  [12800/60000]\n",
            "loss: 1.224715  [19200/60000]\n",
            "loss: 0.929750  [25600/60000]\n",
            "loss: 1.165788  [32000/60000]\n",
            "loss: 1.090782  [38400/60000]\n",
            "loss: 1.149069  [44800/60000]\n",
            "loss: 1.275750  [51200/60000]\n",
            "loss: 0.958549  [57600/60000]\n",
            "Test Error: \n",
            " Accuracy: 61.9%, Avg loss: 0.017026 \n",
            "\n",
            "Epoch 9\n",
            "-------------------------------\n",
            "loss: 1.277243  [    0/60000]\n",
            "loss: 1.274436  [ 6400/60000]\n",
            "loss: 1.130207  [12800/60000]\n",
            "loss: 1.175484  [19200/60000]\n",
            "loss: 0.882126  [25600/60000]\n",
            "loss: 1.111239  [32000/60000]\n",
            "loss: 1.044960  [38400/60000]\n",
            "loss: 1.107079  [44800/60000]\n",
            "loss: 1.222638  [51200/60000]\n",
            "loss: 0.921679  [57600/60000]\n",
            "Test Error: \n",
            " Accuracy: 62.8%, Avg loss: 0.016352 \n",
            "\n",
            "Epoch 10\n",
            "-------------------------------\n",
            "loss: 1.219297  [    0/60000]\n",
            "loss: 1.231721  [ 6400/60000]\n",
            "loss: 1.071836  [12800/60000]\n",
            "loss: 1.137675  [19200/60000]\n",
            "loss: 0.847383  [25600/60000]\n",
            "loss: 1.068410  [32000/60000]\n",
            "loss: 1.009317  [38400/60000]\n",
            "loss: 1.075193  [44800/60000]\n",
            "loss: 1.180687  [51200/60000]\n",
            "loss: 0.892008  [57600/60000]\n",
            "Test Error: \n",
            " Accuracy: 63.9%, Avg loss: 0.015819 \n",
            "\n",
            "Done!\n"
          ]
        }
      ],
      "source": [
        "loss_fn = nn.CrossEntropyLoss()\n",
        "optimizer = torch.optim.SGD(model.parameters(), lr=learning_rate)\n",
        "\n",
        "epochs = 10\n",
        "for t in range(epochs):\n",
        "    print(f\"Epoch {t+1}\\n-------------------------------\")\n",
        "    train_loop(train_dataloader, model, loss_fn, optimizer)\n",
        "    test_loop(test_dataloader, model, loss_fn)\n",
        "print(\"Done!\")"
      ]
    },
    {
      "cell_type": "markdown",
      "metadata": {},
      "source": [
        "You may have noticed that the model is initially not very good (that's OK!). Try running the loop for more `epochs` or adjusting the `learning_rate` to a bigger number. It might also be the case that the model configuration we chose might not be the optimal one for this kind of problem (it isn't). Later courses will delve more into the model shapes that work for vision problems.\n"
      ]
    },
    {
      "cell_type": "markdown",
      "metadata": {},
      "source": [
        "Saving Models\n",
        "-------------\n",
        "\n",
        "When you are satisfied with the model's performance, you can use `torch.save` to save it. PyTorch models store the learned parameters in an internal state dictionary, called `state_dict`. These can be persisted wit the `torch.save` method:"
      ]
    },
    {
      "cell_type": "code",
      "execution_count": 7,
      "metadata": {},
      "outputs": [
        {
          "name": "stdout",
          "output_type": "stream",
          "text": [
            "Saved PyTorch Model State to model.pth\n"
          ]
        }
      ],
      "source": [
        "torch.save(model.state_dict(), \"data/model.pth\")\n",
        "\n",
        "print(\"Saved PyTorch Model State to model.pth\")"
      ]
    }
  ],
  "metadata": {
    "kernelspec": {
      "display_name": "base",
      "language": "python",
      "name": "python3"
    },
    "language_info": {
      "codemirror_mode": {
        "name": "ipython",
        "version": 3
      },
      "file_extension": ".py",
      "mimetype": "text/x-python",
      "name": "python",
      "nbconvert_exporter": "python",
      "pygments_lexer": "ipython3",
      "version": "3.10.13"
    },
    "nteract": {
      "version": "nteract-front-end@1.0.0"
    }
  },
  "nbformat": 4,
  "nbformat_minor": 1
}
