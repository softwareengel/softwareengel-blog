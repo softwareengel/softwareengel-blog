{
  "cells": [
    {
      "attachments": {},
      "cell_type": "markdown",
      "metadata": {},
      "source": [
        "# What is a neural network\n",
        "\n",
        "A neural network is a collection of **neurons** that are connected by layers. Each neuron is a small\n",
        "computing unit that performs simple calculations to collectively solve a problem. Neurons are \n",
        "organized in 3 types of layers: input layer, hidden layer, and \n",
        "output layer.  The hidden and output layers contain a number of neurons. Neural networks mimic the way a human brain processes information.\n",
        "\n",
        "<img alt=\"Diagram showing the different types of layers in a neural network.\" src=\"../images/4-model-1.png\" />"
      ]
    },
    {
      "cell_type": "markdown",
      "metadata": {},
      "source": [
        "## Components of a neural network\n",
        "\n",
        "- An **activation function** determines whether a neuron should be activated or not. The computations that happen in a neural network include applying an activation function. If a neuron activates, then it means the input is important. There are different kinds of activation functions. The choice of which activation function to use depends on what you want the output to be. Another important role of an activation function is to add non-linearity to the model.\n",
        "\n",
        "    - _Binary_ is used to set an output node to 1 if the function result is positive and 0 if the function result is zero or negative. $f(x)= {\\small \\begin{cases} 0, & \\text{if } x < 0\\\\ 1, & \\text{if } x\\geq 0\\\\ \\end{cases}}$\n",
        "    - _Sigmoid_ is used to predict the probability of an output node being between 0 and 1.  $f(x) = {\\large \\frac{1}{1+e^{-x}}} $\n",
        "    - _Tanh_ is used to predict whether an output node is between 1 and -1, for classification use cases.  $f(x) = {\\large \\frac{e^{x} - e^{-x}}{e^{x} + e^{-x}}} $\n",
        "    - _ReLU_ (*rectified linear activation function*) is used to set the output node to 0 if the function result is negative and keeps the result value if the result is a positive value.  $f(x)= {\\small \\begin{cases} 0, & \\text{if } x < 0\\\\ x, & \\text{if } x\\geq 0\\\\ \\end{cases}}$\n",
        "- **Weights** influence how close the output of our network is to the expected output value. As an input enters the neuron, it gets multiplied by a weight value and the resulting output is either observed, or passed to the next layer in the neural network. Weights for all neurons in a layer are organized into one tensor.\n",
        "- **Bias** makes up the difference between the activation function's output and its intended output. A low bias suggest that the network is making more assumptions about the form of the output, whereas a high bias value makes fewer assumptions about the form of the output. \n",
        "\n",
        "<img alt=\"Diagram showing neural computation.\" src=\"../images/4-model-2.png\" />\n",
        "\n",
        "We can say that an output $y$ of a neural network layer with weights $W$ and bias $b$ is computed as summation of the inputs multiplied by the weights plus the bias. $x = \\sum{(weights * inputs) + bias} $, where $f(x)$ is the activation function."
      ]
    },
    {
      "cell_type": "markdown",
      "metadata": {},
      "source": [
        "# Build a neural network\n",
        "\n",
        "Neural networks are comprised of layers and modules that perform operations on data. The `torch.nn` namespace provides all the building blocks you'll need to build your own neural network. Every module in PyTorch subclasses `nn.Module`. A neural network is itself a module that consists of other modules (layers). This nested structure allows for building and managing complex architectures easily.\n",
        "\n",
        "In the following sections, we'll build a neural network to classify images in the FashionMNIST dataset."
      ]
    },
    {
      "cell_type": "code",
      "execution_count": 2,
      "metadata": {},
      "outputs": [],
      "source": [
        "%matplotlib inline\n",
        "import os\n",
        "import torch\n",
        "from torch import nn\n",
        "from torch.utils.data import DataLoader\n",
        "from torchvision import datasets, transforms"
      ]
    },
    {
      "cell_type": "markdown",
      "metadata": {},
      "source": [
        "## Get a hardware device for training\n",
        "\n",
        "We want to be able to train our model on a hardware accelerator like a GPU, if one is available. Let's check to see whether \n",
        "`torch.cuda` is available; if not, we'll continue to use the CPU."
      ]
    },
    {
      "cell_type": "code",
      "execution_count": 3,
      "metadata": {},
      "outputs": [
        {
          "name": "stdout",
          "output_type": "stream",
          "text": [
            "Using cuda device\n"
          ]
        }
      ],
      "source": [
        "device = 'cuda' if torch.cuda.is_available() else 'cpu'\n",
        "print('Using {} device'.format(device))"
      ]
    },
    {
      "cell_type": "markdown",
      "metadata": {},
      "source": [
        "## Define the class\n",
        "\n",
        "We define our neural network by subclassing `nn.Module`, and initialize the neural network layers in `__init__`. Every `nn.Module` subclass implements the operations on input data in the `forward` method.\n",
        "\n",
        "Our neural network is composed of the following:\n",
        "\n",
        "- The input layer with 28x28 or 784 features/pixels.\n",
        "- The first linear module takes the input 784 features and transforms it to a hidden layer with 512 features.\n",
        "- The ReLU activation function will be applied in the transformation.\n",
        "- The second linear module takes 512 features as input from the first hidden layer and transforms it to the next hidden layer with 512 features.\n",
        "- The ReLU activation function will be applied in the transformation.\n",
        "- The third linear module take 512 features as input from the second hidden layer and transforms those features to the output layer with 10, which is the number of classes.\n",
        "- The ReLU activation function will be applied in the transformation."
      ]
    },
    {
      "cell_type": "code",
      "execution_count": 4,
      "metadata": {},
      "outputs": [],
      "source": [
        "class NeuralNetwork(nn.Module):\n",
        "    def __init__(self):\n",
        "        super(NeuralNetwork, self).__init__()\n",
        "        self.flatten = nn.Flatten()\n",
        "        self.linear_relu_stack = nn.Sequential(\n",
        "            nn.Linear(28*28, 512),\n",
        "            nn.ReLU(),\n",
        "            nn.Linear(512, 512),\n",
        "            nn.ReLU(),\n",
        "            nn.Linear(512, 10),\n",
        "            nn.ReLU()\n",
        "        )\n",
        "\n",
        "    def forward(self, x):\n",
        "        x = self.flatten(x)\n",
        "        logits = self.linear_relu_stack(x)\n",
        "        return logits"
      ]
    },
    {
      "cell_type": "markdown",
      "metadata": {},
      "source": [
        "We create an instance of `NeuralNetwork`, and move it to the `device`, and print \n",
        "its structure."
      ]
    },
    {
      "cell_type": "code",
      "execution_count": 5,
      "metadata": {},
      "outputs": [
        {
          "name": "stdout",
          "output_type": "stream",
          "text": [
            "NeuralNetwork(\n",
            "  (flatten): Flatten(start_dim=1, end_dim=-1)\n",
            "  (linear_relu_stack): Sequential(\n",
            "    (0): Linear(in_features=784, out_features=512, bias=True)\n",
            "    (1): ReLU()\n",
            "    (2): Linear(in_features=512, out_features=512, bias=True)\n",
            "    (3): ReLU()\n",
            "    (4): Linear(in_features=512, out_features=10, bias=True)\n",
            "    (5): ReLU()\n",
            "  )\n",
            ")\n"
          ]
        }
      ],
      "source": [
        "model = NeuralNetwork().to(device)\n",
        "print(model)"
      ]
    },
    {
      "cell_type": "markdown",
      "metadata": {},
      "source": [
        "To use the model, we pass it the input data. This executes the model's `forward`, along with some background operations. However, do not call `model.forward()` directly! Calling the model on the input returns a 10-dimensional tensor with raw predicted values for each class.\n",
        "\n",
        "We get the prediction densities by passing it through an instance of the `nn.Softmax`."
      ]
    },
    {
      "cell_type": "code",
      "execution_count": 6,
      "metadata": {},
      "outputs": [
        {
          "name": "stdout",
          "output_type": "stream",
          "text": [
            "Predicted class: tensor([3], device='cuda:0')\n"
          ]
        }
      ],
      "source": [
        "X = torch.rand(1, 28, 28, device=device)\n",
        "logits = model(X) \n",
        "pred_probab = nn.Softmax(dim=1)(logits)\n",
        "y_pred = pred_probab.argmax(1)\n",
        "print(f\"Predicted class: {y_pred}\")"
      ]
    },
    {
      "cell_type": "markdown",
      "metadata": {},
      "source": [
        "## Weight and Bias\n",
        "\n",
        "\n",
        "The `nn.Linear` module randomly initializes the ${weights}$  and ${ bias}$ for each layer and internally stores the values in Tensors."
      ]
    },
    {
      "cell_type": "code",
      "execution_count": 7,
      "metadata": {},
      "outputs": [
        {
          "name": "stdout",
          "output_type": "stream",
          "text": [
            "First Linear weights: Parameter containing:\n",
            "tensor([[-0.0270,  0.0159,  0.0199,  ...,  0.0312, -0.0135, -0.0262],\n",
            "        [-0.0180,  0.0172,  0.0047,  ...,  0.0299, -0.0157, -0.0229],\n",
            "        [-0.0179, -0.0040,  0.0208,  ..., -0.0109, -0.0312, -0.0197],\n",
            "        ...,\n",
            "        [-0.0084, -0.0328, -0.0207,  ...,  0.0186,  0.0014, -0.0255],\n",
            "        [-0.0069,  0.0047,  0.0066,  ..., -0.0250,  0.0083,  0.0144],\n",
            "        [-0.0288, -0.0229, -0.0231,  ...,  0.0045, -0.0037,  0.0233]],\n",
            "       device='cuda:0', requires_grad=True) \n",
            "\n",
            "First Linear biases: Parameter containing:\n",
            "tensor([ 3.8525e-03, -1.7252e-02,  1.0973e-02, -1.8555e-02,  1.5765e-02,\n",
            "         3.1649e-02, -2.3144e-02,  1.0853e-02,  3.3586e-02,  3.0892e-02,\n",
            "         2.2495e-02, -3.0849e-02, -1.1125e-02,  7.3629e-03, -2.5919e-02,\n",
            "        -3.2934e-02, -3.5993e-04, -1.1003e-02, -2.4565e-02,  1.5406e-02,\n",
            "         3.5015e-03, -3.2101e-02,  8.6325e-03,  2.3209e-02, -2.7912e-02,\n",
            "         9.3551e-03,  2.5777e-02, -1.4725e-02, -1.3740e-02,  1.9296e-03,\n",
            "         1.2877e-02, -6.5957e-03, -3.2556e-02,  6.5545e-04,  1.2231e-02,\n",
            "        -3.3743e-02, -2.8424e-02,  2.1431e-03,  2.2887e-02, -2.0465e-02,\n",
            "        -3.4937e-02,  1.5941e-02,  3.3182e-04, -1.3345e-02, -3.0192e-02,\n",
            "        -1.4771e-02,  2.3532e-02, -3.3915e-02, -1.0727e-02,  1.8138e-02,\n",
            "         1.0662e-02, -8.7405e-03,  3.4166e-02,  1.6000e-02,  1.8261e-02,\n",
            "         1.6558e-02, -1.7354e-02,  3.0721e-02, -3.4630e-02, -6.1172e-03,\n",
            "         3.2110e-02, -8.6157e-03, -1.2735e-02, -2.9864e-02, -3.3795e-02,\n",
            "         6.3451e-03, -4.5405e-03,  6.7655e-03,  7.5284e-03,  8.4765e-04,\n",
            "        -2.7606e-02,  1.9496e-02,  3.1162e-02, -3.1370e-02, -3.7495e-03,\n",
            "         1.7124e-03,  7.6693e-03, -3.0535e-03, -1.7507e-02, -9.1117e-04,\n",
            "        -6.8834e-03,  2.8811e-02,  2.6498e-02,  1.1349e-02,  1.5001e-02,\n",
            "         1.2806e-02,  2.1059e-02,  3.1860e-02, -1.2565e-03,  1.1955e-02,\n",
            "        -2.3081e-02,  1.7863e-02,  8.6268e-04, -6.0196e-03, -8.1150e-03,\n",
            "         2.7073e-02, -2.7490e-02, -7.1323e-03, -7.3268e-03,  2.7457e-02,\n",
            "         1.3042e-02, -1.4792e-02, -1.3451e-02,  1.7555e-02, -2.5486e-03,\n",
            "        -8.2456e-03, -2.1248e-02, -2.2453e-02,  5.2963e-03,  1.2100e-02,\n",
            "        -2.4371e-02,  1.3131e-04,  2.8336e-03, -7.0693e-03,  1.4492e-02,\n",
            "         2.6804e-02, -1.0329e-03, -1.3102e-02,  1.1717e-03,  6.7505e-03,\n",
            "         1.1110e-02, -3.6640e-03,  1.0883e-02, -4.8391e-03, -2.5771e-02,\n",
            "        -6.2424e-03,  1.6356e-02, -3.5326e-02,  3.5986e-03, -3.5558e-02,\n",
            "         2.1650e-02,  2.9455e-02, -1.9692e-02,  1.5965e-03,  2.0839e-02,\n",
            "        -7.9466e-03,  6.0017e-04,  2.9513e-02, -3.0024e-02,  1.1710e-02,\n",
            "        -2.6225e-02, -3.2443e-02, -2.1859e-02,  1.7271e-02,  2.8280e-02,\n",
            "        -8.0241e-03,  8.5539e-03, -1.8370e-02, -3.2344e-02,  2.8024e-03,\n",
            "         1.4740e-03, -1.4293e-02, -1.8189e-02,  1.9887e-02, -3.2320e-02,\n",
            "         7.6844e-03, -7.6536e-03,  2.4224e-02, -2.3702e-02, -1.0424e-03,\n",
            "        -1.3960e-02, -3.4606e-02,  2.6990e-02, -1.2465e-02, -3.3221e-02,\n",
            "        -3.5335e-02,  5.9418e-03, -8.1547e-03,  7.4637e-04,  7.0569e-03,\n",
            "        -2.4230e-03, -1.2239e-02,  1.3702e-02, -6.1611e-03,  2.8623e-02,\n",
            "         3.3443e-02,  1.2436e-02,  4.2582e-03,  2.5309e-02,  2.0878e-02,\n",
            "         2.4675e-02, -1.2574e-02, -5.8708e-03,  2.9850e-02, -3.1931e-02,\n",
            "         2.0877e-02, -1.9560e-02,  4.9519e-03, -6.9324e-03,  1.2927e-02,\n",
            "         1.9813e-02, -2.5041e-02,  1.3948e-02,  2.3863e-02, -7.3730e-04,\n",
            "        -1.6333e-02, -8.4970e-04,  3.4987e-02, -3.5209e-03,  1.9719e-02,\n",
            "         3.2393e-02, -2.1755e-03, -3.0664e-02, -1.2089e-02, -1.5404e-02,\n",
            "         3.3944e-02, -2.9582e-02,  2.7141e-02,  1.6266e-02, -1.4266e-02,\n",
            "        -2.0911e-02,  3.3806e-02,  1.9220e-02, -5.3395e-03, -6.9720e-03,\n",
            "        -3.4165e-02, -3.1740e-02,  1.2316e-02, -6.9111e-03, -1.0979e-02,\n",
            "         2.1908e-02, -2.6602e-02, -2.4949e-02,  3.1752e-02, -1.1651e-02,\n",
            "         2.4407e-02,  2.6909e-02, -1.5984e-02,  1.2684e-02,  2.7914e-02,\n",
            "         2.5669e-02,  1.7625e-02, -2.7162e-02,  3.2037e-02, -1.2524e-02,\n",
            "         1.5707e-02,  3.4248e-02,  1.9588e-03,  3.4606e-02,  3.0650e-02,\n",
            "         2.4076e-02,  5.1014e-03,  9.0413e-03, -3.2976e-02, -6.3897e-03,\n",
            "        -2.4820e-02, -1.3340e-02, -1.5030e-02, -1.1034e-05,  3.4260e-03,\n",
            "        -2.6677e-02,  2.0623e-02, -2.5247e-02,  3.2293e-02, -1.0482e-02,\n",
            "        -1.2068e-04,  1.2908e-03, -3.5384e-02,  3.1795e-02, -1.4545e-02,\n",
            "         2.2542e-02, -1.9968e-02,  1.4074e-02, -3.0391e-02, -2.2364e-02,\n",
            "        -2.1546e-02,  6.7975e-03,  8.0424e-03, -2.6790e-02, -9.4465e-03,\n",
            "        -2.4099e-02, -5.3889e-03,  2.6742e-02, -2.1307e-02,  2.1969e-02,\n",
            "         2.3269e-02, -1.6417e-02,  5.8405e-03, -2.9283e-02,  4.6385e-03,\n",
            "        -5.3595e-03,  2.1298e-03,  2.0172e-02, -4.4834e-03, -9.6673e-03,\n",
            "         2.4258e-02, -2.2321e-02,  3.2266e-02,  3.6577e-04,  5.7147e-03,\n",
            "         1.5722e-02,  3.6937e-03, -1.5824e-02, -2.5116e-02,  3.5335e-02,\n",
            "        -2.6189e-02, -1.3831e-02,  2.0904e-02, -3.0723e-02, -5.5921e-03,\n",
            "        -6.6037e-04,  3.2935e-02, -2.0602e-02,  7.0479e-03, -4.4734e-03,\n",
            "        -3.3711e-03, -3.4141e-02,  1.8301e-02,  1.7488e-02, -1.8610e-03,\n",
            "         3.3412e-02,  1.9917e-02,  1.6385e-02,  1.4014e-02,  3.3125e-02,\n",
            "         2.9296e-03, -6.1314e-03, -5.1014e-03,  2.8304e-02,  3.7799e-03,\n",
            "        -4.2140e-03, -2.6675e-02,  8.3115e-04, -5.8194e-03, -3.8938e-03,\n",
            "        -2.2872e-02,  4.1251e-03,  3.3354e-02,  3.3928e-02,  3.3438e-02,\n",
            "        -2.2062e-02, -1.1292e-02, -3.2506e-03, -2.7347e-02,  1.7251e-02,\n",
            "         7.3328e-03, -1.9389e-02,  7.4390e-04,  3.3068e-02, -1.1882e-02,\n",
            "         8.4182e-04, -2.0166e-02, -3.0587e-02, -4.2395e-03,  5.2300e-03,\n",
            "        -1.0061e-03,  2.1369e-02, -2.9448e-02, -4.9137e-03,  1.7670e-02,\n",
            "        -1.8261e-02, -8.8382e-03,  2.5670e-03,  3.3182e-04,  1.5295e-02,\n",
            "        -2.7841e-02,  2.7517e-02,  6.6586e-03, -3.2823e-02,  3.1427e-02,\n",
            "        -6.9567e-03, -4.1117e-03,  1.4932e-02, -1.5341e-02,  3.2571e-02,\n",
            "        -3.2192e-03, -3.9779e-03,  2.2953e-02,  4.5023e-04,  4.1275e-03,\n",
            "         9.0743e-03, -3.4918e-02,  3.4064e-02,  1.5793e-02,  2.9956e-02,\n",
            "        -9.6933e-03,  1.4619e-02,  1.0309e-02, -1.5895e-02,  3.0227e-02,\n",
            "         1.6716e-02,  2.4582e-02, -1.1431e-02, -3.1019e-02,  1.7319e-02,\n",
            "        -7.0964e-03, -2.0889e-02, -1.7028e-02,  4.0362e-04, -1.8113e-02,\n",
            "         1.1285e-02, -1.1223e-02, -1.1573e-02, -3.0880e-02,  9.6019e-03,\n",
            "         1.1526e-02,  2.4217e-02, -3.5636e-03,  3.0820e-02,  1.2873e-02,\n",
            "         1.7858e-02, -2.1547e-03, -3.0304e-02,  2.8263e-02,  1.9968e-02,\n",
            "        -2.7829e-02, -2.1479e-02, -2.6807e-02,  1.4337e-02, -3.6028e-03,\n",
            "        -6.7443e-03,  2.3536e-02,  2.9815e-02,  6.7082e-03,  2.7046e-02,\n",
            "        -9.3899e-03,  2.5896e-02, -1.1035e-02, -6.3223e-03, -1.3639e-02,\n",
            "        -5.0618e-03, -2.3727e-02,  2.9609e-02, -3.3143e-02, -1.0459e-03,\n",
            "        -2.4602e-02, -6.4554e-03, -1.8835e-02,  2.0956e-02,  8.1876e-03,\n",
            "         3.2649e-02, -1.6977e-02, -2.1714e-02,  3.5107e-02, -1.6690e-02,\n",
            "         3.0839e-02,  1.4054e-02,  1.8693e-02, -2.8588e-02,  1.7746e-02,\n",
            "        -2.2893e-02,  1.5742e-02,  3.4323e-02, -3.4645e-03, -6.2085e-03,\n",
            "         1.3166e-02,  2.9382e-02,  5.2139e-03, -2.9359e-02, -1.9645e-02,\n",
            "        -2.6919e-02,  6.1423e-03, -3.0425e-02,  2.1942e-03, -3.1198e-03,\n",
            "         6.8690e-03,  1.2721e-02, -2.9224e-02, -8.9714e-03,  3.3989e-02,\n",
            "         9.6391e-03,  3.1105e-02, -1.5268e-02, -6.9106e-03,  3.3461e-02,\n",
            "         9.2962e-03, -3.5146e-02, -3.5168e-02,  3.0962e-02,  3.2862e-02,\n",
            "         1.5925e-02, -1.5361e-02, -2.2208e-02,  3.2022e-02, -2.5334e-02,\n",
            "         1.6861e-02, -3.4479e-02, -7.5929e-03, -1.9881e-02,  1.4176e-02,\n",
            "         9.1404e-03, -1.6892e-03, -1.4959e-02, -1.0216e-02, -1.2535e-02,\n",
            "        -2.2833e-03,  3.2566e-02,  2.2807e-02,  2.8138e-02, -9.6315e-03,\n",
            "        -1.2226e-02,  1.4286e-02, -1.8241e-02,  2.4825e-02, -2.3492e-02,\n",
            "        -1.4832e-02,  1.3829e-02,  2.5164e-02,  2.4237e-02, -2.7363e-02,\n",
            "        -2.3153e-03,  1.9162e-02, -2.9707e-02,  1.5044e-02, -2.8375e-02,\n",
            "         2.1901e-02, -1.3337e-02,  2.1968e-02,  3.2228e-02, -5.6515e-03,\n",
            "         1.9963e-02,  3.5553e-03], device='cuda:0', requires_grad=True) \n",
            "\n"
          ]
        }
      ],
      "source": [
        "print(f\"First Linear weights: {model.linear_relu_stack[0].weight} \\n\")\n",
        "\n",
        "print(f\"First Linear biases: {model.linear_relu_stack[0].bias} \\n\")"
      ]
    },
    {
      "cell_type": "markdown",
      "metadata": {},
      "source": [
        "## Model layers\n",
        "\n",
        "Let's break down the layers in the FashionMNIST model. To illustrate it, we \n",
        "will take a sample minibatch of 3 images of size **28x28** and see what happens to it as \n",
        "we pass it through the network. "
      ]
    },
    {
      "cell_type": "code",
      "execution_count": 8,
      "metadata": {},
      "outputs": [
        {
          "name": "stdout",
          "output_type": "stream",
          "text": [
            "torch.Size([3, 28, 28])\n"
          ]
        }
      ],
      "source": [
        "input_image = torch.rand(3,28,28)\n",
        "print(input_image.size())"
      ]
    },
    {
      "cell_type": "markdown",
      "metadata": {},
      "source": [
        "### nn.Flatten\n",
        "\n",
        "We initialize the `nn.Flatten` layer to convert each 2D 28x28 image into a contiguous array of 784 pixel values, that is, the minibatch dimension (at dim=0) is maintained. Each of the pixels are passed to the input layer of the neural network.  \n",
        "\n",
        "<img alt=\"Diagram showing how pixels in an image are flattened.\" src=\"../images/4-model-3.png\" />"
      ]
    },
    {
      "cell_type": "code",
      "execution_count": 9,
      "metadata": {},
      "outputs": [
        {
          "name": "stdout",
          "output_type": "stream",
          "text": [
            "torch.Size([3, 784])\n"
          ]
        }
      ],
      "source": [
        "flatten = nn.Flatten()\n",
        "flat_image = flatten(input_image)\n",
        "print(flat_image.size())"
      ]
    },
    {
      "cell_type": "markdown",
      "metadata": {},
      "source": [
        "### nn.Linear \n",
        "\n",
        "The linear layer is a module that applies a linear transformation on the input using its stored weights and biases. The grayscale value of each pixel in the input layer will be connected to neurons in the hidden layer for calculation. The calculation used for the transformation is ${{weight * input + bias}} $.\n"
      ]
    },
    {
      "cell_type": "code",
      "execution_count": 10,
      "metadata": {},
      "outputs": [
        {
          "name": "stdout",
          "output_type": "stream",
          "text": [
            "torch.Size([3, 20])\n"
          ]
        }
      ],
      "source": [
        "layer1 = nn.Linear(in_features=28*28, out_features=20)\n",
        "hidden1 = layer1(flat_image)\n",
        "print(hidden1.size())"
      ]
    },
    {
      "cell_type": "markdown",
      "metadata": {},
      "source": [
        "### nn.ReLU\n",
        "\n",
        "Non-linear activations are what create the complex mappings between the model's inputs and outputs.\n",
        "They are applied after linear transformations to introduce *nonlinearity*, helping neural networks\n",
        "learn a wide variety of phenomena. In this model, we use `nn.ReLU` between our linear layers, but there's other activations to introduce non-linearity in your model.\n",
        "\n",
        "The ReLU activation function takes the output from the linear layer calculation and replaces the negative values with zeros.\n",
        "\n",
        "Linear output: ${ x = {weight * input + bias}} $.  \n",
        "ReLU:  $f(x)= \n",
        "\\begin{cases}\n",
        "    0, & \\text{if } x < 0\\\\\n",
        "    x, & \\text{if } x\\geq 0\\\\\n",
        "\\end{cases}\n",
        "$"
      ]
    },
    {
      "cell_type": "code",
      "execution_count": 11,
      "metadata": {
        "scrolled": true
      },
      "outputs": [
        {
          "name": "stdout",
          "output_type": "stream",
          "text": [
            "Before ReLU: tensor([[ 0.3123,  0.3719,  0.2031,  0.0145,  0.1359, -0.3153,  0.2386, -0.4052,\n",
            "         -0.1409,  0.0505, -0.3068,  0.2791,  0.3263, -0.1340,  0.0170, -0.3381,\n",
            "         -0.1134,  0.2414, -0.0068,  0.3444],\n",
            "        [ 0.4182,  0.1287, -0.0208, -0.0304,  0.0232, -0.7300,  0.2035, -0.3861,\n",
            "         -0.0830,  0.1547,  0.2953,  0.4521,  0.0727, -0.0582, -0.4309, -0.1467,\n",
            "         -0.1244,  0.1005, -0.2170,  0.3184],\n",
            "        [ 0.5047, -0.1529, -0.0505,  0.1449, -0.0396, -0.6443,  0.1739, -0.1335,\n",
            "          0.0014, -0.0066, -0.3470,  0.5206,  0.0592, -0.1042, -0.2244, -0.3162,\n",
            "         -0.1644,  0.4322, -0.0077,  0.3108]], grad_fn=<AddmmBackward0>)\n",
            "\n",
            "\n",
            "After ReLU: tensor([[0.3123, 0.3719, 0.2031, 0.0145, 0.1359, 0.0000, 0.2386, 0.0000, 0.0000,\n",
            "         0.0505, 0.0000, 0.2791, 0.3263, 0.0000, 0.0170, 0.0000, 0.0000, 0.2414,\n",
            "         0.0000, 0.3444],\n",
            "        [0.4182, 0.1287, 0.0000, 0.0000, 0.0232, 0.0000, 0.2035, 0.0000, 0.0000,\n",
            "         0.1547, 0.2953, 0.4521, 0.0727, 0.0000, 0.0000, 0.0000, 0.0000, 0.1005,\n",
            "         0.0000, 0.3184],\n",
            "        [0.5047, 0.0000, 0.0000, 0.1449, 0.0000, 0.0000, 0.1739, 0.0000, 0.0014,\n",
            "         0.0000, 0.0000, 0.5206, 0.0592, 0.0000, 0.0000, 0.0000, 0.0000, 0.4322,\n",
            "         0.0000, 0.3108]], grad_fn=<ReluBackward0>)\n"
          ]
        }
      ],
      "source": [
        "print(f\"Before ReLU: {hidden1}\\n\\n\")\n",
        "hidden1 = nn.ReLU()(hidden1)\n",
        "print(f\"After ReLU: {hidden1}\")"
      ]
    },
    {
      "cell_type": "markdown",
      "metadata": {},
      "source": [
        "### nn.Sequential\n",
        "\n",
        "`nn.Sequential` is an ordered \n",
        "container of modules. The data is passed through all the modules in their defined order. You can use\n",
        "sequential containers to put together a quick network like `seq_modules`."
      ]
    },
    {
      "cell_type": "code",
      "execution_count": 12,
      "metadata": {},
      "outputs": [],
      "source": [
        "seq_modules = nn.Sequential(\n",
        "    flatten,\n",
        "    layer1,\n",
        "    nn.ReLU(),\n",
        "    nn.Linear(20, 10)\n",
        ")\n",
        "input_image = torch.rand(3,28,28)\n",
        "logits = seq_modules(input_image)"
      ]
    },
    {
      "cell_type": "markdown",
      "metadata": {},
      "source": [
        "### nn.Softmax\n",
        "\n",
        "The last linear layer of the neural network returns `logits` (the raw values in \\[`-infty`, `infty`]), which are passed to the\n",
        "`nn.Softmax` module. The Softmax activation function is used to calculate the probability of the output from the neural network. It is only used on the output layer of a neural network. The results are scaled to values \\[0, 1\\] representing the model's predicted densities for each class. The `dim` parameter indicates the dimension along which the result values must sum to 1. The node with the highest probability predicts the desired output.\n",
        "\n",
        "<img alt=\"Diagram shows softmax formula\" src=\"../images/4-model-4.png\" />"
      ]
    },
    {
      "cell_type": "code",
      "execution_count": 13,
      "metadata": {},
      "outputs": [],
      "source": [
        "softmax = nn.Softmax(dim=1)\n",
        "pred_probab = softmax(logits)"
      ]
    },
    {
      "cell_type": "markdown",
      "metadata": {},
      "source": [
        "## Model parameters\n",
        "\n",
        "Many layers inside a neural network are *parameterized*, that is, the layers have associated weights \n",
        "and biases that are optimized during training. Subclassing `nn.Module` automatically \n",
        "tracks all fields defined inside your model object, and makes all parameters \n",
        "accessible using your model's `parameters()` or `named_parameters()` methods.\n",
        "\n",
        "In this example, we iterate over each parameter, and print its size and a preview of its values."
      ]
    },
    {
      "cell_type": "code",
      "execution_count": 14,
      "metadata": {
        "scrolled": true
      },
      "outputs": [
        {
          "name": "stdout",
          "output_type": "stream",
          "text": [
            "Model structure:  NeuralNetwork(\n",
            "  (flatten): Flatten(start_dim=1, end_dim=-1)\n",
            "  (linear_relu_stack): Sequential(\n",
            "    (0): Linear(in_features=784, out_features=512, bias=True)\n",
            "    (1): ReLU()\n",
            "    (2): Linear(in_features=512, out_features=512, bias=True)\n",
            "    (3): ReLU()\n",
            "    (4): Linear(in_features=512, out_features=10, bias=True)\n",
            "    (5): ReLU()\n",
            "  )\n",
            ") \n",
            "\n",
            "\n",
            "Layer: linear_relu_stack.0.weight | Size: torch.Size([512, 784]) | Values : tensor([[-0.0270,  0.0159,  0.0199,  ...,  0.0312, -0.0135, -0.0262],\n",
            "        [-0.0180,  0.0172,  0.0047,  ...,  0.0299, -0.0157, -0.0229]],\n",
            "       device='cuda:0', grad_fn=<SliceBackward0>) \n",
            "\n",
            "Layer: linear_relu_stack.0.bias | Size: torch.Size([512]) | Values : tensor([ 0.0039, -0.0173], device='cuda:0', grad_fn=<SliceBackward0>) \n",
            "\n",
            "Layer: linear_relu_stack.2.weight | Size: torch.Size([512, 512]) | Values : tensor([[ 0.0296, -0.0020, -0.0168,  ...,  0.0065,  0.0315, -0.0137],\n",
            "        [ 0.0208,  0.0207, -0.0353,  ...,  0.0242, -0.0168, -0.0159]],\n",
            "       device='cuda:0', grad_fn=<SliceBackward0>) \n",
            "\n",
            "Layer: linear_relu_stack.2.bias | Size: torch.Size([512]) | Values : tensor([ 0.0149, -0.0146], device='cuda:0', grad_fn=<SliceBackward0>) \n",
            "\n",
            "Layer: linear_relu_stack.4.weight | Size: torch.Size([10, 512]) | Values : tensor([[ 0.0026, -0.0337, -0.0301,  ...,  0.0019,  0.0342, -0.0077],\n",
            "        [-0.0141,  0.0403, -0.0055,  ...,  0.0207, -0.0362,  0.0028]],\n",
            "       device='cuda:0', grad_fn=<SliceBackward0>) \n",
            "\n",
            "Layer: linear_relu_stack.4.bias | Size: torch.Size([10]) | Values : tensor([-0.0224,  0.0317], device='cuda:0', grad_fn=<SliceBackward0>) \n",
            "\n"
          ]
        }
      ],
      "source": [
        "print(\"Model structure: \", model, \"\\n\\n\")\n",
        "\n",
        "for name, param in model.named_parameters():\n",
        "    print(f\"Layer: {name} | Size: {param.size()} | Values : {param[:2]} \\n\")"
      ]
    }
  ],
  "metadata": {
    "kernelspec": {
      "display_name": "labelme",
      "language": "python",
      "name": "python3"
    },
    "language_info": {
      "codemirror_mode": {
        "name": "ipython",
        "version": 3
      },
      "file_extension": ".py",
      "mimetype": "text/x-python",
      "name": "python",
      "nbconvert_exporter": "python",
      "pygments_lexer": "ipython3",
      "version": "3.10.9"
    },
    "nteract": {
      "version": "nteract-front-end@1.0.0"
    }
  },
  "nbformat": 4,
  "nbformat_minor": 1
}
